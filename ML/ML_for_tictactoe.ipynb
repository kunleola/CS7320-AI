{
 "cells": [
  {
   "cell_type": "markdown",
   "metadata": {},
   "source": [
    "# Learn to Score a Tic-Tac-Toe Board by Example"
   ]
  },
  {
   "cell_type": "markdown",
   "metadata": {},
   "source": [
    "## Introduction \n",
    "\n",
    "We want to use machine learning (ML) to support intelligent agents playing Tic-Tac-Toe (see [rules](https://en.wikipedia.org/wiki/Tic-tac-toe)). \n",
    "Games are sequential decision making problems that can be solved using heuristic tree search. \n",
    "Here we try to learn an evaluation function `eval()` that predicts the utility of a non-terminal board.\n",
    "The idea is to use supervised learning to train a regression model on training data created using simulation.\n",
    "\n",
    "### The Data Generating Function $f(\\cdot)$\n",
    "To apply supervised learning we assume that \n",
    "there exists a function \n",
    "$$y = f(x),$$ \n",
    "with $y \\in [-1,1]$ that maps a board (state $s$) represented by the feature \n",
    "vector $x$ to the true utility of the state $U(s)$ given the playout policies that both players are using. \n",
    "For terminal states, we can observe a value for this function. But for non-terminal state, we need to learn an approximation.\n",
    "\n",
    "The actual game outcomes in data that we observe depends not just on the current board but also on both \n",
    "   players' playout policies. \n",
    "   We call the two playout policies $\\pi_x$ and $\\pi_o$. \n",
    "   If the policies are stochastic, then the function $f(\\cdot)$ will also be stochastic. This means the same board can lead to a win (+1), a loss (-1) or a draw (0),\n",
    "   depending on what moves are chosen by the players.\n",
    "   One way to interpret this is to say that our observations have a random error or are noisy which is fine for ML. \n",
    "   For stochastic functions, we need to work with expectations. We model \n",
    "   $$\\mathbb{E}_{\\pi_x,\\pi_o}[U(s)] = y = f(x_s),$$ \n",
    "   with the\n",
    "   expectation taken over the two players' playout policies $\\pi_x$ and $\\pi_o$. For simple two-player, zero-sum games \n",
    "   it has been shown \n",
    "   that the expected state utility of random play is proportional to the expected utility under the optimal policies, so we can\n",
    "   use random playout policies. Essentially, better boards are more likely to lead to a win no matter the policy. \n",
    "\n",
    "\n",
    "### The ML Model\n",
    "\n",
    "The expected utility is a continuous variable so we use regression.\n",
    "We want to learn a function to predict the expected utility:\n",
    "$$h(x_s) = \\hat{y} \\approx \\mathbb{E}_{\\pi_x,\\pi_o}[U(s)].$$ \n",
    "\n",
    "We do not expect a linear relationship, so linear regression will not work.\n",
    "For regression, we typically minimize the \n",
    "$L_2(\\hat{y}, y)$ loss. \n",
    "\n",
    "### Training Data\n",
    "We can create training data by observing (or simulating) games and recording all board positions as the \n",
    "   feature matrix $X$ and the information if they lead to a win, \n",
    "   loss or draw as the vector $y$. \n",
    "\n",
    "The training data is typically generated using simulation which also uses a playout strategy. We will use a \n",
    "simple random policy. \n",
    "\n",
    "An even better approach would be to use \"self-play.\" Here the current ML model is used as the playout policy for two copies of the agent playing each other (it is called self-play because the agent basically plays itself). We update the models after each new game finishes and keep on playing. The idea is that the agent will generate better and better data to improve the model. Considerations for self-play including temporal credit assignment and the need to introduce variability into the process can be found in [Tesauro (1995)](https://dl.acm.org/doi/10.1145/203330.203343).\n",
    "\n",
    "### Using the ML Model in the Agent \n",
    "The ML model can be used in intelligent agents in several ways:  \n",
    "   - We can choose an action in state $s$ by maximizing the predicted expected utility of the state after the action: \n",
    "   $$a^* = \\mathrm{argmax}_{a \\in \\mathrm{available\\_actions}(s)}\\ h(\\mathrm{result}(s, a)).$$ \n",
    "   This is a direct application of the maximum \n",
    "   expected utility principle. \n",
    "   \n",
    "   - We can use $$\\mathrm{eval(s)} = h(s)$$ as the heuristic evaluation function for heuristic minimax cutoff search.\n",
    "\n",
    "Note that the first option is actually a special case of the second where the cutoff is 1."
   ]
  },
  {
   "cell_type": "markdown",
   "metadata": {},
   "source": [
    "## Implementation\n",
    "\n",
    "The code for the basic functions used for search are implemented in [tictactoe.py](tictactoe.py). "
   ]
  },
  {
   "cell_type": "code",
   "execution_count": 145,
   "metadata": {},
   "outputs": [],
   "source": [
    "from tictactoe import empty_board, actions, result, terminal, utility, other, show_board\n",
    "from tictactoe import random_player, play "
   ]
  },
  {
   "cell_type": "code",
   "execution_count": 146,
   "metadata": {},
   "outputs": [
    {
     "name": "stdout",
     "output_type": "stream",
     "text": [
      "Note: you may need to restart the kernel to use updated packages.\n"
     ]
    }
   ],
   "source": [
    "%precision 3\n",
    "%pip install -q numpy pandas matplotlib scikit-learn\n",
    "\n",
    "import numpy as np\n",
    "import pandas as pd\n",
    "import math"
   ]
  },
  {
   "cell_type": "markdown",
   "metadata": {},
   "source": [
    "### Create Training Data using Playouts\n",
    "\n",
    "We need to create board as the matrix $X$ and the game results as vector $y$. Note that each player sees different \n",
    "boards and we need to train a model for a specific player. Here we create data to train a model for player x\n",
    "by only using the boards resulting from a move of that player.  "
   ]
  },
  {
   "cell_type": "markdown",
   "metadata": {},
   "source": [
    "ML algorithms need numeric inputs.\n",
    "To describe $x$ for the learning algorithm, I translate empty cells to 0, `x` to 1 and `o` to -1."
   ]
  },
  {
   "cell_type": "code",
   "execution_count": 147,
   "metadata": {},
   "outputs": [],
   "source": [
    "tr = {' ': 0, 'x': 1, 'o': -1} # I translate the board into numbers\n",
    "\n",
    "def encode_state(state):\n",
    "    \"\"\"Represent the board as a vector of numbers.\"\"\"\n",
    "    return [tr[s] for s in state]"
   ]
  },
  {
   "cell_type": "markdown",
   "metadata": {},
   "source": [
    "We will simulate the training data with a **randomized playout policy.**"
   ]
  },
  {
   "cell_type": "code",
   "execution_count": 148,
   "metadata": {},
   "outputs": [
    {
     "data": {
      "text/plain": [
       "np.int64(1)"
      ]
     },
     "execution_count": 148,
     "metadata": {},
     "output_type": "execute_result"
    }
   ],
   "source": [
    "def playout_policy_random(state, player = 'x'):\n",
    "    return np.random.choice(actions(state))\n",
    "    \n",
    "playout_policy = playout_policy_random\n",
    "playout_policy(empty_board())"
   ]
  },
  {
   "cell_type": "markdown",
   "metadata": {},
   "source": [
    "We need to assign utility to all boards in the game. This is called in AI **credit assignment problem** which assigns credit to\n",
    "intermediate states which lead to a final state that has a utility defined.\n",
    "I implement here a very simple credit assignment strategy that attribute 100% of the utility to the terminal board and then reduce the assigned utility using a decay factor. \n",
    "The example is for the boards in a game with 3 moves by x that leads to a loss."
   ]
  },
  {
   "cell_type": "code",
   "execution_count": 149,
   "metadata": {},
   "outputs": [
    {
     "data": {
      "text/plain": [
       "[-0.640, -0.800, -1.000]"
      ]
     },
     "execution_count": 149,
     "metadata": {},
     "output_type": "execute_result"
    }
   ],
   "source": [
    "def credit_assignment(u, len, decay = .8):\n",
    "    return [u * decay ** (x-1) for x in range(len, 0, -1)] \n",
    "\n",
    "credit_assignment(-1, 3)"
   ]
  },
  {
   "cell_type": "markdown",
   "metadata": {},
   "source": [
    "Record a single game for player x."
   ]
  },
  {
   "cell_type": "code",
   "execution_count": 150,
   "metadata": {},
   "outputs": [
    {
     "data": {
      "text/plain": [
       "([[0, 0, 0, 0, 0, 1, 0, 0, 0],\n",
       "  [-1, 0, 1, 0, 0, 1, 0, 0, 0],\n",
       "  [-1, 0, 1, 0, 0, 1, 1, 0, -1],\n",
       "  [-1, 1, 1, 0, 0, 1, 1, -1, -1]],\n",
       " [-0.512, -0.640, -0.800, -1.000])"
      ]
     },
     "execution_count": 150,
     "metadata": {},
     "output_type": "execute_result"
    }
   ],
   "source": [
    "def playout_record(player = 'x'):\n",
    "    \"\"\"Run a playout and record the boards after the player's move.\"\"\"\n",
    "    state = empty_board()\n",
    "    current_player = 'x'\n",
    "    \n",
    "    boards = []\n",
    "    \n",
    "    while(True):\n",
    "        # reached terminal state? Perform credit assignment\n",
    "        u = utility(state, player)\n",
    "        if u is not None: return(boards, credit_assignment(u, len(boards)))\n",
    "  \n",
    "        # next action\n",
    "        a = playout_policy(state, current_player)\n",
    "        state = result(state, current_player, a)   \n",
    "  \n",
    "        # only store boards for the player\n",
    "        if current_player == player:\n",
    "            boards.append(encode_state(state))\n",
    "\n",
    "        # switch between players\n",
    "        current_player = other(current_player)\n",
    "\n",
    "playout_record()"
   ]
  },
  {
   "cell_type": "markdown",
   "metadata": {},
   "source": [
    "Run `N` playouts and create a pandas dataframe for `X` and a numpy array for `y`. These data structures work for `sklearn`. "
   ]
  },
  {
   "cell_type": "code",
   "execution_count": 151,
   "metadata": {},
   "outputs": [
    {
     "name": "stdout",
     "output_type": "stream",
     "text": [
      "X:\n"
     ]
    },
    {
     "data": {
      "text/html": [
       "<div>\n",
       "<style scoped>\n",
       "    .dataframe tbody tr th:only-of-type {\n",
       "        vertical-align: middle;\n",
       "    }\n",
       "\n",
       "    .dataframe tbody tr th {\n",
       "        vertical-align: top;\n",
       "    }\n",
       "\n",
       "    .dataframe thead th {\n",
       "        text-align: right;\n",
       "    }\n",
       "</style>\n",
       "<table border=\"1\" class=\"dataframe\">\n",
       "  <thead>\n",
       "    <tr style=\"text-align: right;\">\n",
       "      <th></th>\n",
       "      <th>0</th>\n",
       "      <th>1</th>\n",
       "      <th>2</th>\n",
       "      <th>3</th>\n",
       "      <th>4</th>\n",
       "      <th>5</th>\n",
       "      <th>6</th>\n",
       "      <th>7</th>\n",
       "      <th>8</th>\n",
       "    </tr>\n",
       "  </thead>\n",
       "  <tbody>\n",
       "    <tr>\n",
       "      <th>0</th>\n",
       "      <td>0</td>\n",
       "      <td>0</td>\n",
       "      <td>0</td>\n",
       "      <td>1</td>\n",
       "      <td>0</td>\n",
       "      <td>0</td>\n",
       "      <td>0</td>\n",
       "      <td>0</td>\n",
       "      <td>0</td>\n",
       "    </tr>\n",
       "    <tr>\n",
       "      <th>1</th>\n",
       "      <td>0</td>\n",
       "      <td>0</td>\n",
       "      <td>0</td>\n",
       "      <td>1</td>\n",
       "      <td>0</td>\n",
       "      <td>0</td>\n",
       "      <td>1</td>\n",
       "      <td>-1</td>\n",
       "      <td>0</td>\n",
       "    </tr>\n",
       "    <tr>\n",
       "      <th>2</th>\n",
       "      <td>0</td>\n",
       "      <td>0</td>\n",
       "      <td>0</td>\n",
       "      <td>1</td>\n",
       "      <td>0</td>\n",
       "      <td>-1</td>\n",
       "      <td>1</td>\n",
       "      <td>-1</td>\n",
       "      <td>1</td>\n",
       "    </tr>\n",
       "    <tr>\n",
       "      <th>3</th>\n",
       "      <td>-1</td>\n",
       "      <td>0</td>\n",
       "      <td>1</td>\n",
       "      <td>1</td>\n",
       "      <td>0</td>\n",
       "      <td>-1</td>\n",
       "      <td>1</td>\n",
       "      <td>-1</td>\n",
       "      <td>1</td>\n",
       "    </tr>\n",
       "    <tr>\n",
       "      <th>4</th>\n",
       "      <td>-1</td>\n",
       "      <td>1</td>\n",
       "      <td>1</td>\n",
       "      <td>1</td>\n",
       "      <td>-1</td>\n",
       "      <td>-1</td>\n",
       "      <td>1</td>\n",
       "      <td>-1</td>\n",
       "      <td>1</td>\n",
       "    </tr>\n",
       "    <tr>\n",
       "      <th>...</th>\n",
       "      <td>...</td>\n",
       "      <td>...</td>\n",
       "      <td>...</td>\n",
       "      <td>...</td>\n",
       "      <td>...</td>\n",
       "      <td>...</td>\n",
       "      <td>...</td>\n",
       "      <td>...</td>\n",
       "      <td>...</td>\n",
       "    </tr>\n",
       "    <tr>\n",
       "      <th>20838</th>\n",
       "      <td>0</td>\n",
       "      <td>0</td>\n",
       "      <td>0</td>\n",
       "      <td>0</td>\n",
       "      <td>0</td>\n",
       "      <td>0</td>\n",
       "      <td>1</td>\n",
       "      <td>0</td>\n",
       "      <td>0</td>\n",
       "    </tr>\n",
       "    <tr>\n",
       "      <th>20839</th>\n",
       "      <td>0</td>\n",
       "      <td>0</td>\n",
       "      <td>0</td>\n",
       "      <td>-1</td>\n",
       "      <td>0</td>\n",
       "      <td>0</td>\n",
       "      <td>1</td>\n",
       "      <td>0</td>\n",
       "      <td>1</td>\n",
       "    </tr>\n",
       "    <tr>\n",
       "      <th>20840</th>\n",
       "      <td>0</td>\n",
       "      <td>1</td>\n",
       "      <td>0</td>\n",
       "      <td>-1</td>\n",
       "      <td>-1</td>\n",
       "      <td>0</td>\n",
       "      <td>1</td>\n",
       "      <td>0</td>\n",
       "      <td>1</td>\n",
       "    </tr>\n",
       "    <tr>\n",
       "      <th>20841</th>\n",
       "      <td>-1</td>\n",
       "      <td>1</td>\n",
       "      <td>1</td>\n",
       "      <td>-1</td>\n",
       "      <td>-1</td>\n",
       "      <td>0</td>\n",
       "      <td>1</td>\n",
       "      <td>0</td>\n",
       "      <td>1</td>\n",
       "    </tr>\n",
       "    <tr>\n",
       "      <th>20842</th>\n",
       "      <td>-1</td>\n",
       "      <td>1</td>\n",
       "      <td>1</td>\n",
       "      <td>-1</td>\n",
       "      <td>-1</td>\n",
       "      <td>1</td>\n",
       "      <td>1</td>\n",
       "      <td>-1</td>\n",
       "      <td>1</td>\n",
       "    </tr>\n",
       "  </tbody>\n",
       "</table>\n",
       "<p>20843 rows × 9 columns</p>\n",
       "</div>"
      ],
      "text/plain": [
       "       0  1  2  3  4  5  6  7  8\n",
       "0      0  0  0  1  0  0  0  0  0\n",
       "1      0  0  0  1  0  0  1 -1  0\n",
       "2      0  0  0  1  0 -1  1 -1  1\n",
       "3     -1  0  1  1  0 -1  1 -1  1\n",
       "4     -1  1  1  1 -1 -1  1 -1  1\n",
       "...   .. .. .. .. .. .. .. .. ..\n",
       "20838  0  0  0  0  0  0  1  0  0\n",
       "20839  0  0  0 -1  0  0  1  0  1\n",
       "20840  0  1  0 -1 -1  0  1  0  1\n",
       "20841 -1  1  1 -1 -1  0  1  0  1\n",
       "20842 -1  1  1 -1 -1  1  1 -1  1\n",
       "\n",
       "[20843 rows x 9 columns]"
      ]
     },
     "metadata": {},
     "output_type": "display_data"
    },
    {
     "name": "stdout",
     "output_type": "stream",
     "text": [
      "y:\n"
     ]
    },
    {
     "data": {
      "text/plain": [
       "array([0.  , 0.  , 0.  , ..., 0.64, 0.8 , 1.  ])"
      ]
     },
     "metadata": {},
     "output_type": "display_data"
    }
   ],
   "source": [
    "def create_data(N, record = 'x'):\n",
    "    board = []\n",
    "    utility = []\n",
    "    \n",
    "    for i in range(N):\n",
    "        b, u = playout_record(record)\n",
    "        board.extend(b)\n",
    "        utility.extend(u)\n",
    "        \n",
    "    return [pd.DataFrame(board), np.array(utility)]\n",
    "\n",
    "\n",
    "np.random.seed(1234)\n",
    "\n",
    "X, y = create_data(5000)\n",
    "\n",
    "print(\"X:\")\n",
    "display(X)\n",
    "\n",
    "print(\"y:\")\n",
    "display(y)"
   ]
  },
  {
   "cell_type": "markdown",
   "metadata": {},
   "source": [
    "Each row in `X` is a board and the values in `y` are the corresponding outcome in the simulated game."
   ]
  },
  {
   "cell_type": "markdown",
   "metadata": {},
   "source": [
    "### Train the Model\n",
    "\n",
    "Since we want to learn to predict a number (the utility), we have a regression problem.\n",
    "We learn an artificial neural network called a Multi-layer Perceptron **Regressor** in scikit-learn.\n",
    "\n",
    "See\n",
    "https://scikit-learn.org/stable/modules/generated/sklearn.neural_network.MLPRegressor.html\n",
    "\n",
    "ANNs are popular for this kind of task but other regression models can also be used."
   ]
  },
  {
   "cell_type": "code",
   "execution_count": 152,
   "metadata": {},
   "outputs": [],
   "source": [
    "from sklearn.model_selection import train_test_split, cross_val_score\n",
    "from sklearn.metrics import root_mean_squared_error, mean_absolute_error, explained_variance_score"
   ]
  },
  {
   "cell_type": "markdown",
   "metadata": {},
   "source": [
    "Split the data in training and testing data so we can evaluate generalization performance."
   ]
  },
  {
   "cell_type": "code",
   "execution_count": 153,
   "metadata": {},
   "outputs": [],
   "source": [
    "X_train, X_test, y_train, y_test = train_test_split(X, y, test_size=0.2)"
   ]
  },
  {
   "cell_type": "markdown",
   "metadata": {},
   "source": [
    "Fit the model."
   ]
  },
  {
   "cell_type": "code",
   "execution_count": 154,
   "metadata": {},
   "outputs": [
    {
     "name": "stdout",
     "output_type": "stream",
     "text": [
      "CPU times: user 51.5 s, sys: 68.5 ms, total: 51.5 s\n",
      "Wall time: 4.86 s\n"
     ]
    },
    {
     "data": {
      "text/html": [
       "<style>#sk-container-id-13 {\n",
       "  /* Definition of color scheme common for light and dark mode */\n",
       "  --sklearn-color-text: black;\n",
       "  --sklearn-color-line: gray;\n",
       "  /* Definition of color scheme for unfitted estimators */\n",
       "  --sklearn-color-unfitted-level-0: #fff5e6;\n",
       "  --sklearn-color-unfitted-level-1: #f6e4d2;\n",
       "  --sklearn-color-unfitted-level-2: #ffe0b3;\n",
       "  --sklearn-color-unfitted-level-3: chocolate;\n",
       "  /* Definition of color scheme for fitted estimators */\n",
       "  --sklearn-color-fitted-level-0: #f0f8ff;\n",
       "  --sklearn-color-fitted-level-1: #d4ebff;\n",
       "  --sklearn-color-fitted-level-2: #b3dbfd;\n",
       "  --sklearn-color-fitted-level-3: cornflowerblue;\n",
       "\n",
       "  /* Specific color for light theme */\n",
       "  --sklearn-color-text-on-default-background: var(--sg-text-color, var(--theme-code-foreground, var(--jp-content-font-color1, black)));\n",
       "  --sklearn-color-background: var(--sg-background-color, var(--theme-background, var(--jp-layout-color0, white)));\n",
       "  --sklearn-color-border-box: var(--sg-text-color, var(--theme-code-foreground, var(--jp-content-font-color1, black)));\n",
       "  --sklearn-color-icon: #696969;\n",
       "\n",
       "  @media (prefers-color-scheme: dark) {\n",
       "    /* Redefinition of color scheme for dark theme */\n",
       "    --sklearn-color-text-on-default-background: var(--sg-text-color, var(--theme-code-foreground, var(--jp-content-font-color1, white)));\n",
       "    --sklearn-color-background: var(--sg-background-color, var(--theme-background, var(--jp-layout-color0, #111)));\n",
       "    --sklearn-color-border-box: var(--sg-text-color, var(--theme-code-foreground, var(--jp-content-font-color1, white)));\n",
       "    --sklearn-color-icon: #878787;\n",
       "  }\n",
       "}\n",
       "\n",
       "#sk-container-id-13 {\n",
       "  color: var(--sklearn-color-text);\n",
       "}\n",
       "\n",
       "#sk-container-id-13 pre {\n",
       "  padding: 0;\n",
       "}\n",
       "\n",
       "#sk-container-id-13 input.sk-hidden--visually {\n",
       "  border: 0;\n",
       "  clip: rect(1px 1px 1px 1px);\n",
       "  clip: rect(1px, 1px, 1px, 1px);\n",
       "  height: 1px;\n",
       "  margin: -1px;\n",
       "  overflow: hidden;\n",
       "  padding: 0;\n",
       "  position: absolute;\n",
       "  width: 1px;\n",
       "}\n",
       "\n",
       "#sk-container-id-13 div.sk-dashed-wrapped {\n",
       "  border: 1px dashed var(--sklearn-color-line);\n",
       "  margin: 0 0.4em 0.5em 0.4em;\n",
       "  box-sizing: border-box;\n",
       "  padding-bottom: 0.4em;\n",
       "  background-color: var(--sklearn-color-background);\n",
       "}\n",
       "\n",
       "#sk-container-id-13 div.sk-container {\n",
       "  /* jupyter's `normalize.less` sets `[hidden] { display: none; }`\n",
       "     but bootstrap.min.css set `[hidden] { display: none !important; }`\n",
       "     so we also need the `!important` here to be able to override the\n",
       "     default hidden behavior on the sphinx rendered scikit-learn.org.\n",
       "     See: https://github.com/scikit-learn/scikit-learn/issues/21755 */\n",
       "  display: inline-block !important;\n",
       "  position: relative;\n",
       "}\n",
       "\n",
       "#sk-container-id-13 div.sk-text-repr-fallback {\n",
       "  display: none;\n",
       "}\n",
       "\n",
       "div.sk-parallel-item,\n",
       "div.sk-serial,\n",
       "div.sk-item {\n",
       "  /* draw centered vertical line to link estimators */\n",
       "  background-image: linear-gradient(var(--sklearn-color-text-on-default-background), var(--sklearn-color-text-on-default-background));\n",
       "  background-size: 2px 100%;\n",
       "  background-repeat: no-repeat;\n",
       "  background-position: center center;\n",
       "}\n",
       "\n",
       "/* Parallel-specific style estimator block */\n",
       "\n",
       "#sk-container-id-13 div.sk-parallel-item::after {\n",
       "  content: \"\";\n",
       "  width: 100%;\n",
       "  border-bottom: 2px solid var(--sklearn-color-text-on-default-background);\n",
       "  flex-grow: 1;\n",
       "}\n",
       "\n",
       "#sk-container-id-13 div.sk-parallel {\n",
       "  display: flex;\n",
       "  align-items: stretch;\n",
       "  justify-content: center;\n",
       "  background-color: var(--sklearn-color-background);\n",
       "  position: relative;\n",
       "}\n",
       "\n",
       "#sk-container-id-13 div.sk-parallel-item {\n",
       "  display: flex;\n",
       "  flex-direction: column;\n",
       "}\n",
       "\n",
       "#sk-container-id-13 div.sk-parallel-item:first-child::after {\n",
       "  align-self: flex-end;\n",
       "  width: 50%;\n",
       "}\n",
       "\n",
       "#sk-container-id-13 div.sk-parallel-item:last-child::after {\n",
       "  align-self: flex-start;\n",
       "  width: 50%;\n",
       "}\n",
       "\n",
       "#sk-container-id-13 div.sk-parallel-item:only-child::after {\n",
       "  width: 0;\n",
       "}\n",
       "\n",
       "/* Serial-specific style estimator block */\n",
       "\n",
       "#sk-container-id-13 div.sk-serial {\n",
       "  display: flex;\n",
       "  flex-direction: column;\n",
       "  align-items: center;\n",
       "  background-color: var(--sklearn-color-background);\n",
       "  padding-right: 1em;\n",
       "  padding-left: 1em;\n",
       "}\n",
       "\n",
       "\n",
       "/* Toggleable style: style used for estimator/Pipeline/ColumnTransformer box that is\n",
       "clickable and can be expanded/collapsed.\n",
       "- Pipeline and ColumnTransformer use this feature and define the default style\n",
       "- Estimators will overwrite some part of the style using the `sk-estimator` class\n",
       "*/\n",
       "\n",
       "/* Pipeline and ColumnTransformer style (default) */\n",
       "\n",
       "#sk-container-id-13 div.sk-toggleable {\n",
       "  /* Default theme specific background. It is overwritten whether we have a\n",
       "  specific estimator or a Pipeline/ColumnTransformer */\n",
       "  background-color: var(--sklearn-color-background);\n",
       "}\n",
       "\n",
       "/* Toggleable label */\n",
       "#sk-container-id-13 label.sk-toggleable__label {\n",
       "  cursor: pointer;\n",
       "  display: block;\n",
       "  width: 100%;\n",
       "  margin-bottom: 0;\n",
       "  padding: 0.5em;\n",
       "  box-sizing: border-box;\n",
       "  text-align: center;\n",
       "}\n",
       "\n",
       "#sk-container-id-13 label.sk-toggleable__label-arrow:before {\n",
       "  /* Arrow on the left of the label */\n",
       "  content: \"▸\";\n",
       "  float: left;\n",
       "  margin-right: 0.25em;\n",
       "  color: var(--sklearn-color-icon);\n",
       "}\n",
       "\n",
       "#sk-container-id-13 label.sk-toggleable__label-arrow:hover:before {\n",
       "  color: var(--sklearn-color-text);\n",
       "}\n",
       "\n",
       "/* Toggleable content - dropdown */\n",
       "\n",
       "#sk-container-id-13 div.sk-toggleable__content {\n",
       "  max-height: 0;\n",
       "  max-width: 0;\n",
       "  overflow: hidden;\n",
       "  text-align: left;\n",
       "  /* unfitted */\n",
       "  background-color: var(--sklearn-color-unfitted-level-0);\n",
       "}\n",
       "\n",
       "#sk-container-id-13 div.sk-toggleable__content.fitted {\n",
       "  /* fitted */\n",
       "  background-color: var(--sklearn-color-fitted-level-0);\n",
       "}\n",
       "\n",
       "#sk-container-id-13 div.sk-toggleable__content pre {\n",
       "  margin: 0.2em;\n",
       "  border-radius: 0.25em;\n",
       "  color: var(--sklearn-color-text);\n",
       "  /* unfitted */\n",
       "  background-color: var(--sklearn-color-unfitted-level-0);\n",
       "}\n",
       "\n",
       "#sk-container-id-13 div.sk-toggleable__content.fitted pre {\n",
       "  /* unfitted */\n",
       "  background-color: var(--sklearn-color-fitted-level-0);\n",
       "}\n",
       "\n",
       "#sk-container-id-13 input.sk-toggleable__control:checked~div.sk-toggleable__content {\n",
       "  /* Expand drop-down */\n",
       "  max-height: 200px;\n",
       "  max-width: 100%;\n",
       "  overflow: auto;\n",
       "}\n",
       "\n",
       "#sk-container-id-13 input.sk-toggleable__control:checked~label.sk-toggleable__label-arrow:before {\n",
       "  content: \"▾\";\n",
       "}\n",
       "\n",
       "/* Pipeline/ColumnTransformer-specific style */\n",
       "\n",
       "#sk-container-id-13 div.sk-label input.sk-toggleable__control:checked~label.sk-toggleable__label {\n",
       "  color: var(--sklearn-color-text);\n",
       "  background-color: var(--sklearn-color-unfitted-level-2);\n",
       "}\n",
       "\n",
       "#sk-container-id-13 div.sk-label.fitted input.sk-toggleable__control:checked~label.sk-toggleable__label {\n",
       "  background-color: var(--sklearn-color-fitted-level-2);\n",
       "}\n",
       "\n",
       "/* Estimator-specific style */\n",
       "\n",
       "/* Colorize estimator box */\n",
       "#sk-container-id-13 div.sk-estimator input.sk-toggleable__control:checked~label.sk-toggleable__label {\n",
       "  /* unfitted */\n",
       "  background-color: var(--sklearn-color-unfitted-level-2);\n",
       "}\n",
       "\n",
       "#sk-container-id-13 div.sk-estimator.fitted input.sk-toggleable__control:checked~label.sk-toggleable__label {\n",
       "  /* fitted */\n",
       "  background-color: var(--sklearn-color-fitted-level-2);\n",
       "}\n",
       "\n",
       "#sk-container-id-13 div.sk-label label.sk-toggleable__label,\n",
       "#sk-container-id-13 div.sk-label label {\n",
       "  /* The background is the default theme color */\n",
       "  color: var(--sklearn-color-text-on-default-background);\n",
       "}\n",
       "\n",
       "/* On hover, darken the color of the background */\n",
       "#sk-container-id-13 div.sk-label:hover label.sk-toggleable__label {\n",
       "  color: var(--sklearn-color-text);\n",
       "  background-color: var(--sklearn-color-unfitted-level-2);\n",
       "}\n",
       "\n",
       "/* Label box, darken color on hover, fitted */\n",
       "#sk-container-id-13 div.sk-label.fitted:hover label.sk-toggleable__label.fitted {\n",
       "  color: var(--sklearn-color-text);\n",
       "  background-color: var(--sklearn-color-fitted-level-2);\n",
       "}\n",
       "\n",
       "/* Estimator label */\n",
       "\n",
       "#sk-container-id-13 div.sk-label label {\n",
       "  font-family: monospace;\n",
       "  font-weight: bold;\n",
       "  display: inline-block;\n",
       "  line-height: 1.2em;\n",
       "}\n",
       "\n",
       "#sk-container-id-13 div.sk-label-container {\n",
       "  text-align: center;\n",
       "}\n",
       "\n",
       "/* Estimator-specific */\n",
       "#sk-container-id-13 div.sk-estimator {\n",
       "  font-family: monospace;\n",
       "  border: 1px dotted var(--sklearn-color-border-box);\n",
       "  border-radius: 0.25em;\n",
       "  box-sizing: border-box;\n",
       "  margin-bottom: 0.5em;\n",
       "  /* unfitted */\n",
       "  background-color: var(--sklearn-color-unfitted-level-0);\n",
       "}\n",
       "\n",
       "#sk-container-id-13 div.sk-estimator.fitted {\n",
       "  /* fitted */\n",
       "  background-color: var(--sklearn-color-fitted-level-0);\n",
       "}\n",
       "\n",
       "/* on hover */\n",
       "#sk-container-id-13 div.sk-estimator:hover {\n",
       "  /* unfitted */\n",
       "  background-color: var(--sklearn-color-unfitted-level-2);\n",
       "}\n",
       "\n",
       "#sk-container-id-13 div.sk-estimator.fitted:hover {\n",
       "  /* fitted */\n",
       "  background-color: var(--sklearn-color-fitted-level-2);\n",
       "}\n",
       "\n",
       "/* Specification for estimator info (e.g. \"i\" and \"?\") */\n",
       "\n",
       "/* Common style for \"i\" and \"?\" */\n",
       "\n",
       ".sk-estimator-doc-link,\n",
       "a:link.sk-estimator-doc-link,\n",
       "a:visited.sk-estimator-doc-link {\n",
       "  float: right;\n",
       "  font-size: smaller;\n",
       "  line-height: 1em;\n",
       "  font-family: monospace;\n",
       "  background-color: var(--sklearn-color-background);\n",
       "  border-radius: 1em;\n",
       "  height: 1em;\n",
       "  width: 1em;\n",
       "  text-decoration: none !important;\n",
       "  margin-left: 1ex;\n",
       "  /* unfitted */\n",
       "  border: var(--sklearn-color-unfitted-level-1) 1pt solid;\n",
       "  color: var(--sklearn-color-unfitted-level-1);\n",
       "}\n",
       "\n",
       ".sk-estimator-doc-link.fitted,\n",
       "a:link.sk-estimator-doc-link.fitted,\n",
       "a:visited.sk-estimator-doc-link.fitted {\n",
       "  /* fitted */\n",
       "  border: var(--sklearn-color-fitted-level-1) 1pt solid;\n",
       "  color: var(--sklearn-color-fitted-level-1);\n",
       "}\n",
       "\n",
       "/* On hover */\n",
       "div.sk-estimator:hover .sk-estimator-doc-link:hover,\n",
       ".sk-estimator-doc-link:hover,\n",
       "div.sk-label-container:hover .sk-estimator-doc-link:hover,\n",
       ".sk-estimator-doc-link:hover {\n",
       "  /* unfitted */\n",
       "  background-color: var(--sklearn-color-unfitted-level-3);\n",
       "  color: var(--sklearn-color-background);\n",
       "  text-decoration: none;\n",
       "}\n",
       "\n",
       "div.sk-estimator.fitted:hover .sk-estimator-doc-link.fitted:hover,\n",
       ".sk-estimator-doc-link.fitted:hover,\n",
       "div.sk-label-container:hover .sk-estimator-doc-link.fitted:hover,\n",
       ".sk-estimator-doc-link.fitted:hover {\n",
       "  /* fitted */\n",
       "  background-color: var(--sklearn-color-fitted-level-3);\n",
       "  color: var(--sklearn-color-background);\n",
       "  text-decoration: none;\n",
       "}\n",
       "\n",
       "/* Span, style for the box shown on hovering the info icon */\n",
       ".sk-estimator-doc-link span {\n",
       "  display: none;\n",
       "  z-index: 9999;\n",
       "  position: relative;\n",
       "  font-weight: normal;\n",
       "  right: .2ex;\n",
       "  padding: .5ex;\n",
       "  margin: .5ex;\n",
       "  width: min-content;\n",
       "  min-width: 20ex;\n",
       "  max-width: 50ex;\n",
       "  color: var(--sklearn-color-text);\n",
       "  box-shadow: 2pt 2pt 4pt #999;\n",
       "  /* unfitted */\n",
       "  background: var(--sklearn-color-unfitted-level-0);\n",
       "  border: .5pt solid var(--sklearn-color-unfitted-level-3);\n",
       "}\n",
       "\n",
       ".sk-estimator-doc-link.fitted span {\n",
       "  /* fitted */\n",
       "  background: var(--sklearn-color-fitted-level-0);\n",
       "  border: var(--sklearn-color-fitted-level-3);\n",
       "}\n",
       "\n",
       ".sk-estimator-doc-link:hover span {\n",
       "  display: block;\n",
       "}\n",
       "\n",
       "/* \"?\"-specific style due to the `<a>` HTML tag */\n",
       "\n",
       "#sk-container-id-13 a.estimator_doc_link {\n",
       "  float: right;\n",
       "  font-size: 1rem;\n",
       "  line-height: 1em;\n",
       "  font-family: monospace;\n",
       "  background-color: var(--sklearn-color-background);\n",
       "  border-radius: 1rem;\n",
       "  height: 1rem;\n",
       "  width: 1rem;\n",
       "  text-decoration: none;\n",
       "  /* unfitted */\n",
       "  color: var(--sklearn-color-unfitted-level-1);\n",
       "  border: var(--sklearn-color-unfitted-level-1) 1pt solid;\n",
       "}\n",
       "\n",
       "#sk-container-id-13 a.estimator_doc_link.fitted {\n",
       "  /* fitted */\n",
       "  border: var(--sklearn-color-fitted-level-1) 1pt solid;\n",
       "  color: var(--sklearn-color-fitted-level-1);\n",
       "}\n",
       "\n",
       "/* On hover */\n",
       "#sk-container-id-13 a.estimator_doc_link:hover {\n",
       "  /* unfitted */\n",
       "  background-color: var(--sklearn-color-unfitted-level-3);\n",
       "  color: var(--sklearn-color-background);\n",
       "  text-decoration: none;\n",
       "}\n",
       "\n",
       "#sk-container-id-13 a.estimator_doc_link.fitted:hover {\n",
       "  /* fitted */\n",
       "  background-color: var(--sklearn-color-fitted-level-3);\n",
       "}\n",
       "</style><div id=\"sk-container-id-13\" class=\"sk-top-container\"><div class=\"sk-text-repr-fallback\"><pre>MLPRegressor(alpha=0.001, early_stopping=True, hidden_layer_sizes=200,\n",
       "             max_iter=1000)</pre><b>In a Jupyter environment, please rerun this cell to show the HTML representation or trust the notebook. <br />On GitHub, the HTML representation is unable to render, please try loading this page with nbviewer.org.</b></div><div class=\"sk-container\" hidden><div class=\"sk-item\"><div class=\"sk-estimator fitted sk-toggleable\"><input class=\"sk-toggleable__control sk-hidden--visually\" id=\"sk-estimator-id-13\" type=\"checkbox\" checked><label for=\"sk-estimator-id-13\" class=\"sk-toggleable__label fitted sk-toggleable__label-arrow fitted\">&nbsp;&nbsp;MLPRegressor<a class=\"sk-estimator-doc-link fitted\" rel=\"noreferrer\" target=\"_blank\" href=\"https://scikit-learn.org/1.5/modules/generated/sklearn.neural_network.MLPRegressor.html\">?<span>Documentation for MLPRegressor</span></a><span class=\"sk-estimator-doc-link fitted\">i<span>Fitted</span></span></label><div class=\"sk-toggleable__content fitted\"><pre>MLPRegressor(alpha=0.001, early_stopping=True, hidden_layer_sizes=200,\n",
       "             max_iter=1000)</pre></div> </div></div></div></div>"
      ],
      "text/plain": [
       "MLPRegressor(alpha=0.001, early_stopping=True, hidden_layer_sizes=200,\n",
       "             max_iter=1000)"
      ]
     },
     "execution_count": 154,
     "metadata": {},
     "output_type": "execute_result"
    }
   ],
   "source": [
    "from sklearn.neural_network import MLPRegressor\n",
    "\n",
    "mlp = MLPRegressor(hidden_layer_sizes = (200), \n",
    "                   early_stopping= True, \n",
    "                   alpha = 0.001,\n",
    "                   max_iter = 1000\n",
    "                   ) \n",
    "                    \n",
    "%time mlp.fit(X_train, y_train)"
   ]
  },
  {
   "cell_type": "markdown",
   "metadata": {},
   "source": [
    "The model has 9 inputs, 200 hidden neurons and a single output neuron.\n",
    "Model size as number of neurons per layer and total number of weights."
   ]
  },
  {
   "cell_type": "code",
   "execution_count": 155,
   "metadata": {},
   "outputs": [
    {
     "data": {
      "text/plain": [
       "200"
      ]
     },
     "execution_count": 155,
     "metadata": {},
     "output_type": "execute_result"
    }
   ],
   "source": [
    "mlp.intercepts_[0].size"
   ]
  },
  {
   "cell_type": "code",
   "execution_count": 156,
   "metadata": {},
   "outputs": [
    {
     "name": "stdout",
     "output_type": "stream",
     "text": [
      "Layer 1: (9, 200)\n",
      "Layer 2: (200, 1)\n",
      "Total number of weights: 2201\n"
     ]
    }
   ],
   "source": [
    "print(\"Layer 1:\", np.shape(mlp.coefs_[0]))\n",
    "print(\"Layer 2:\", np.shape(mlp.coefs_[1]))\n",
    "\n",
    "print(\"Total number of weights:\", mlp.coefs_[0].size + mlp.intercepts_[0].size + \n",
    "      mlp.coefs_[1].size + mlp.intercepts_[1].size)"
   ]
  },
  {
   "cell_type": "markdown",
   "metadata": {},
   "source": [
    "### Test Model Performance\n",
    "\n",
    "Test the model against the test data."
   ]
  },
  {
   "cell_type": "code",
   "execution_count": 157,
   "metadata": {},
   "outputs": [
    {
     "name": "stdout",
     "output_type": "stream",
     "text": [
      "   y_test    y_pred\n",
      "0 -0.6400  0.433643\n",
      "1  0.4096  0.032689\n",
      "2  0.0000  0.118943\n",
      "3 -0.5120  0.141967\n",
      "4 -1.0000 -1.124528\n",
      "5  0.5120  0.141967\n",
      "6  0.0000 -0.051354\n",
      "7 -0.5120  0.028323\n",
      "8  0.4096  0.131953\n",
      "9  1.0000  0.759072\n",
      "RMSE: 0.54097729505961\n",
      "MAE: 0.44362805917149445\n",
      "Explained variance: 0.3316726523960307\n"
     ]
    }
   ],
   "source": [
    "pred = mlp.predict(X_test)\n",
    "\n",
    "\n",
    "#print(\"y_test:\\t\", list(y_test)[0:10])\n",
    "#print(\"pred:\\t\",   pred[0:10])\n",
    "\n",
    "print(pd.DataFrame({'y_test': list(y_test)[0:10], 'y_pred': pred[0:10]}))\n",
    "\n",
    "print(\"RMSE:\", root_mean_squared_error(y_test, pred))\n",
    "print(\"MAE:\", mean_absolute_error(y_test, pred))\n",
    "print(\"Explained variance:\", explained_variance_score(y_test, pred))"
   ]
  },
  {
   "cell_type": "markdown",
   "metadata": {},
   "source": [
    "__Note:__ The error of the model is not great but remember, that we have a stochastic problem. We have two random players, so  the same board may lead to a win one time and to a loss the another time."
   ]
  },
  {
   "cell_type": "markdown",
   "metadata": {},
   "source": [
    "__More Notes:__ \n",
    "\n",
    "* The board is symmetric. You could use deep learning with convolution layers to create better models.\n",
    "* The tic-tac-toe board is small and we used 5000 playouts. This covers a large space of the search space. If you have a more complicated game, \n",
    "    then you would need to do self-play to learn better and better playout policies."
   ]
  },
  {
   "cell_type": "markdown",
   "metadata": {},
   "source": [
    "## Tests On Boards\n",
    "\n",
    "We evaluate some boards where `x` just made a move. The classifier tries to predict the most likely outcome\n",
    "of the game as -1 = `o` wins, 0 = draw, and 1 = `x` wins. The classifier can also predict the probability of the three possible outcomes. We can use these probabilities as weights to calculate the expected utility in the range $[-1,1]$."
   ]
  },
  {
   "cell_type": "code",
   "execution_count": 158,
   "metadata": {},
   "outputs": [],
   "source": [
    "def print_eval_board(board):\n",
    "    print(\"Board:\")\n",
    "    show_board(board)\n",
    "\n",
    "    pred = mlp.predict(pd.DataFrame([encode_state(board)]))[0]\n",
    "    print(\"\\nPredicted expected utility:\", pred)"
   ]
  },
  {
   "cell_type": "markdown",
   "metadata": {},
   "source": [
    "### x will win"
   ]
  },
  {
   "cell_type": "code",
   "execution_count": 159,
   "metadata": {},
   "outputs": [
    {
     "name": "stdout",
     "output_type": "stream",
     "text": [
      "Board:\n"
     ]
    },
    {
     "data": {
      "image/png": "[encoded data removed]",
      "text/plain": [
       "<Figure size 192x192 with 1 Axes>"
      ]
     },
     "metadata": {},
     "output_type": "display_data"
    },
    {
     "name": "stdout",
     "output_type": "stream",
     "text": [
      "\n",
      "Predicted expected utility: 0.6555595759845032\n"
     ]
    }
   ],
   "source": [
    "board = ['x', 'x', ' ',\n",
    "         'o', 'x', ' ',\n",
    "         'o', ' ', ' ']\n",
    "\n",
    "print_eval_board(board)"
   ]
  },
  {
   "cell_type": "markdown",
   "metadata": {},
   "source": [
    "### x made a mistake and will lose"
   ]
  },
  {
   "cell_type": "code",
   "execution_count": 160,
   "metadata": {},
   "outputs": [
    {
     "name": "stdout",
     "output_type": "stream",
     "text": [
      "Board:\n"
     ]
    },
    {
     "data": {
      "image/png": "[encoded data removed]",
      "text/plain": [
       "<Figure size 192x192 with 1 Axes>"
      ]
     },
     "metadata": {},
     "output_type": "display_data"
    },
    {
     "name": "stdout",
     "output_type": "stream",
     "text": [
      "\n",
      "Predicted expected utility: -0.03355788338428427\n"
     ]
    }
   ],
   "source": [
    "board = ['o', 'x', ' ',\n",
    "         ' ', 'o', ' ',\n",
    "         ' ', 'x', 'x']\n",
    "    \n",
    "print_eval_board(board)"
   ]
  },
  {
   "cell_type": "markdown",
   "metadata": {},
   "source": [
    "### This is going to be a draw"
   ]
  },
  {
   "cell_type": "code",
   "execution_count": 161,
   "metadata": {},
   "outputs": [
    {
     "name": "stdout",
     "output_type": "stream",
     "text": [
      "Board:\n"
     ]
    },
    {
     "data": {
      "image/png": "[encoded data removed]",
      "text/plain": [
       "<Figure size 192x192 with 1 Axes>"
      ]
     },
     "metadata": {},
     "output_type": "display_data"
    },
    {
     "name": "stdout",
     "output_type": "stream",
     "text": [
      "\n",
      "Predicted expected utility: -0.011323930429159135\n"
     ]
    }
   ],
   "source": [
    "board = ['x', 'o', 'x',\n",
    "         ' ', 'o', ' ',\n",
    "         ' ', 'x', ' ']\n",
    "\n",
    "print_eval_board(board)"
   ]
  },
  {
   "cell_type": "markdown",
   "metadata": {},
   "source": [
    "## Using the Predictions to find the Best Move\n",
    "\n",
    "The predict function can be used for\n",
    "   - the heuristic evaluation function for Heuristic Minimax Search.\n",
    "   - a better playout policy for simulated games used in Pure Monte Carlo Search/Monte Carlo Tree Search. If we use it as a playout strategy to create more data for learning better ML models, then this is called _self-play_. "
   ]
  },
  {
   "cell_type": "markdown",
   "metadata": {},
   "source": [
    "I show here how to use the model as a heuristic evaluation function for all boards that the player `x` can get to with its next move. The player then chooses the move with the highest heuristic value (printed as \"best action\"). This is equivalent to heuristic minimax search with a cutoff at depth 1. "
   ]
  },
  {
   "cell_type": "code",
   "execution_count": 162,
   "metadata": {},
   "outputs": [],
   "source": [
    "def eval_fun_ML(state, player = 'x'):\n",
    "    return mlp.predict(pd.DataFrame([encode_state(state)]))[0]\n",
    "    \n",
    "\n",
    "def ML_agent_function(state, player = 'x', verbose = False):  \n",
    "    if (player != 'x'):\n",
    "        raise Exception(\"I was only trained to play x!\")\n",
    "    action = None\n",
    "    value = -math.inf\n",
    "\n",
    "    for a in actions(state) : \n",
    "        b = result(state, player, a)\n",
    "        val = eval_fun_ML(b, player)\n",
    "        if (verbose):\n",
    "            print(\"if %s chooses %d: predicted utility = %+1.2f\" % (player, a, val))\n",
    "\n",
    "        if val > value:\n",
    "            value = val\n",
    "            action = a\n",
    "        \n",
    "    return action"
   ]
  },
  {
   "cell_type": "markdown",
   "metadata": {},
   "source": [
    "### Empty board: Place in the center (or at least a corner)"
   ]
  },
  {
   "cell_type": "code",
   "execution_count": 163,
   "metadata": {},
   "outputs": [
    {
     "data": {
      "image/png": "[encoded data removed]",
      "text/plain": [
       "<Figure size 192x192 with 1 Axes>"
      ]
     },
     "metadata": {},
     "output_type": "display_data"
    },
    {
     "name": "stdout",
     "output_type": "stream",
     "text": [
      "if x chooses 0: predicted utility = +0.16\n",
      "if x chooses 1: predicted utility = +0.10\n",
      "if x chooses 2: predicted utility = +0.12\n",
      "if x chooses 3: predicted utility = +0.03\n",
      "if x chooses 4: predicted utility = +0.22\n",
      "if x chooses 5: predicted utility = +0.03\n",
      "if x chooses 6: predicted utility = +0.14\n",
      "if x chooses 7: predicted utility = +0.03\n",
      "if x chooses 8: predicted utility = +0.13\n",
      "Best action: 4\n",
      "CPU times: user 7.23 ms, sys: 2 μs, total: 7.23 ms\n",
      "Wall time: 7.14 ms\n"
     ]
    }
   ],
   "source": [
    "board = empty_board()\n",
    "show_board(board)\n",
    "%time print(\"Best action:\", ML_agent_function(board, verbose = True))"
   ]
  },
  {
   "cell_type": "markdown",
   "metadata": {},
   "source": [
    "### Play 7 to avoid a loss"
   ]
  },
  {
   "cell_type": "code",
   "execution_count": 164,
   "metadata": {},
   "outputs": [
    {
     "data": {
      "image/png": "[encoded data removed]",
      "text/plain": [
       "<Figure size 192x192 with 1 Axes>"
      ]
     },
     "metadata": {},
     "output_type": "display_data"
    },
    {
     "name": "stdout",
     "output_type": "stream",
     "text": [
      "if x chooses 3: predicted utility = -0.28\n",
      "if x chooses 5: predicted utility = -0.29\n",
      "if x chooses 6: predicted utility = -0.34\n",
      "if x chooses 7: predicted utility = -0.01\n",
      "if x chooses 8: predicted utility = -0.26\n",
      "Best action: 7\n",
      "CPU times: user 3.5 ms, sys: 0 ns, total: 3.5 ms\n",
      "Wall time: 3.46 ms\n"
     ]
    }
   ],
   "source": [
    "board = ['x', 'o', 'x',\n",
    "         ' ', 'o', ' ',\n",
    "         ' ', ' ', ' ']\n",
    "show_board(board)\n",
    "%time  print(\"Best action:\", ML_agent_function(board, verbose = True))"
   ]
  },
  {
   "cell_type": "markdown",
   "metadata": {},
   "source": [
    "### Play 4 to win"
   ]
  },
  {
   "cell_type": "code",
   "execution_count": 165,
   "metadata": {},
   "outputs": [
    {
     "data": {
      "image/png": "[encoded data removed]",
      "text/plain": [
       "<Figure size 192x192 with 1 Axes>"
      ]
     },
     "metadata": {},
     "output_type": "display_data"
    },
    {
     "name": "stdout",
     "output_type": "stream",
     "text": [
      "if x chooses 2: predicted utility = -0.78\n",
      "if x chooses 3: predicted utility = -0.30\n",
      "if x chooses 4: predicted utility = +0.38\n",
      "if x chooses 6: predicted utility = -0.07\n",
      "if x chooses 7: predicted utility = -0.35\n",
      "Best action: 4\n",
      "CPU times: user 3.09 ms, sys: 1 μs, total: 3.09 ms\n",
      "Wall time: 3.01 ms\n"
     ]
    }
   ],
   "source": [
    "board = ['o', 'x', ' ',\n",
    "         ' ', ' ', 'x',\n",
    "         ' ', ' ', 'o']\n",
    "show_board(board)\n",
    "%time  print(\"Best action:\", ML_agent_function(board, verbose = True))"
   ]
  },
  {
   "cell_type": "markdown",
   "metadata": {},
   "source": [
    "## Play time\n",
    "\n",
    "The evaluation function was only trained for player x so we cannot have it play for o."
   ]
  },
  {
   "cell_type": "code",
   "execution_count": 166,
   "metadata": {},
   "outputs": [
    {
     "name": "stdout",
     "output_type": "stream",
     "text": [
      "ML vs. random:\n"
     ]
    },
    {
     "data": {
      "text/plain": [
       "{'x': 100, 'o': 0, 'd': 0}"
      ]
     },
     "metadata": {},
     "output_type": "display_data"
    },
    {
     "name": "stdout",
     "output_type": "stream",
     "text": [
      "CPU times: user 1.1 s, sys: 16.9 ms, total: 1.12 s\n",
      "Wall time: 1.09 s\n"
     ]
    }
   ],
   "source": [
    "print(\"ML vs. random:\")\n",
    "%time display(play(ML_agent_function, random_player))"
   ]
  },
  {
   "cell_type": "markdown",
   "metadata": {},
   "source": [
    "## Some Concluding Notes \n",
    "\n",
    "* The learned evaluation function is not perfect.\n",
    "* Tic-tac-toe is easy and learning an evaluation function for more complex games can be a lot harder. It may require deep learning with convolution or constructing an embedding for the board.\n",
    "* We could create a stronger player by using the ML evaluation function in a heuristic alpha-beta search. "
   ]
  }
 ],
 "metadata": {
  "kernelspec": {
   "display_name": ".venv_AI",
   "language": "python",
   "name": "python3"
  },
  "language_info": {
   "codemirror_mode": {
    "name": "ipython",
    "version": 3
   },
   "file_extension": ".py",
   "mimetype": "text/x-python",
   "name": "python",
   "nbconvert_exporter": "python",
   "pygments_lexer": "ipython3",
   "version": "3.12.3"
  }
 },
 "nbformat": 4,
 "nbformat_minor": 4
}
